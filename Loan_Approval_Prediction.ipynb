{
  "cells": [
    {
      "cell_type": "markdown",
      "metadata": {},
      "source": [
        "## Loan Approval Prediction "
      ]
    },
    {
      "cell_type": "markdown",
      "metadata": {},
      "source": [
        "#### Exploratory Data Analysis"
      ]
    },
    {
      "cell_type": "code",
      "execution_count": 26,
      "metadata": {
        "id": "-H7kJirnyJVo"
      },
      "outputs": [],
      "source": [
        "## Install the libraries\n",
        "import pandas as pd\n",
        "import numpy as np\n",
        "import seaborn as sns\n",
        "import matplotlib.pyplot as plt\n",
        "import warnings\n",
        "warnings.filterwarnings('ignore')\n",
        "%matplotlib inline"
      ]
    },
    {
      "cell_type": "code",
      "execution_count": 27,
      "metadata": {
        "colab": {
          "base_uri": "https://localhost:8080/",
          "height": 460
        },
        "id": "qMWwl_yf7tJX",
        "outputId": "82d88d1d-930c-4966-a804-f38a56c4a9b5"
      },
      "outputs": [
        {
          "data": {
            "text/html": [
              "<div>\n",
              "<style scoped>\n",
              "    .dataframe tbody tr th:only-of-type {\n",
              "        vertical-align: middle;\n",
              "    }\n",
              "\n",
              "    .dataframe tbody tr th {\n",
              "        vertical-align: top;\n",
              "    }\n",
              "\n",
              "    .dataframe thead th {\n",
              "        text-align: right;\n",
              "    }\n",
              "</style>\n",
              "<table border=\"1\" class=\"dataframe\">\n",
              "  <thead>\n",
              "    <tr style=\"text-align: right;\">\n",
              "      <th></th>\n",
              "      <th>Loan_ID</th>\n",
              "      <th>Gender</th>\n",
              "      <th>Married</th>\n",
              "      <th>Dependents</th>\n",
              "      <th>Education</th>\n",
              "      <th>Self_Employed</th>\n",
              "      <th>ApplicantIncome</th>\n",
              "      <th>CoapplicantIncome</th>\n",
              "      <th>LoanAmount</th>\n",
              "      <th>Loan_Amount_Term</th>\n",
              "      <th>Credit_History</th>\n",
              "      <th>Property_Area</th>\n",
              "      <th>Loan_Status</th>\n",
              "    </tr>\n",
              "  </thead>\n",
              "  <tbody>\n",
              "    <tr>\n",
              "      <th>0</th>\n",
              "      <td>LP001002</td>\n",
              "      <td>Male</td>\n",
              "      <td>No</td>\n",
              "      <td>0</td>\n",
              "      <td>Graduate</td>\n",
              "      <td>No</td>\n",
              "      <td>5849</td>\n",
              "      <td>0.0</td>\n",
              "      <td>NaN</td>\n",
              "      <td>360.0</td>\n",
              "      <td>1.0</td>\n",
              "      <td>Urban</td>\n",
              "      <td>Y</td>\n",
              "    </tr>\n",
              "    <tr>\n",
              "      <th>1</th>\n",
              "      <td>LP001003</td>\n",
              "      <td>Male</td>\n",
              "      <td>Yes</td>\n",
              "      <td>1</td>\n",
              "      <td>Graduate</td>\n",
              "      <td>No</td>\n",
              "      <td>4583</td>\n",
              "      <td>1508.0</td>\n",
              "      <td>128.0</td>\n",
              "      <td>360.0</td>\n",
              "      <td>1.0</td>\n",
              "      <td>Rural</td>\n",
              "      <td>N</td>\n",
              "    </tr>\n",
              "    <tr>\n",
              "      <th>2</th>\n",
              "      <td>LP001005</td>\n",
              "      <td>Male</td>\n",
              "      <td>Yes</td>\n",
              "      <td>0</td>\n",
              "      <td>Graduate</td>\n",
              "      <td>Yes</td>\n",
              "      <td>3000</td>\n",
              "      <td>0.0</td>\n",
              "      <td>66.0</td>\n",
              "      <td>360.0</td>\n",
              "      <td>1.0</td>\n",
              "      <td>Urban</td>\n",
              "      <td>Y</td>\n",
              "    </tr>\n",
              "    <tr>\n",
              "      <th>3</th>\n",
              "      <td>LP001006</td>\n",
              "      <td>Male</td>\n",
              "      <td>Yes</td>\n",
              "      <td>0</td>\n",
              "      <td>Not Graduate</td>\n",
              "      <td>No</td>\n",
              "      <td>2583</td>\n",
              "      <td>2358.0</td>\n",
              "      <td>120.0</td>\n",
              "      <td>360.0</td>\n",
              "      <td>1.0</td>\n",
              "      <td>Urban</td>\n",
              "      <td>Y</td>\n",
              "    </tr>\n",
              "    <tr>\n",
              "      <th>4</th>\n",
              "      <td>LP001008</td>\n",
              "      <td>Male</td>\n",
              "      <td>No</td>\n",
              "      <td>0</td>\n",
              "      <td>Graduate</td>\n",
              "      <td>No</td>\n",
              "      <td>6000</td>\n",
              "      <td>0.0</td>\n",
              "      <td>141.0</td>\n",
              "      <td>360.0</td>\n",
              "      <td>1.0</td>\n",
              "      <td>Urban</td>\n",
              "      <td>Y</td>\n",
              "    </tr>\n",
              "  </tbody>\n",
              "</table>\n",
              "</div>"
            ],
            "text/plain": [
              "    Loan_ID Gender Married Dependents     Education Self_Employed  \\\n",
              "0  LP001002   Male      No          0      Graduate            No   \n",
              "1  LP001003   Male     Yes          1      Graduate            No   \n",
              "2  LP001005   Male     Yes          0      Graduate           Yes   \n",
              "3  LP001006   Male     Yes          0  Not Graduate            No   \n",
              "4  LP001008   Male      No          0      Graduate            No   \n",
              "\n",
              "   ApplicantIncome  CoapplicantIncome  LoanAmount  Loan_Amount_Term  \\\n",
              "0             5849                0.0         NaN             360.0   \n",
              "1             4583             1508.0       128.0             360.0   \n",
              "2             3000                0.0        66.0             360.0   \n",
              "3             2583             2358.0       120.0             360.0   \n",
              "4             6000                0.0       141.0             360.0   \n",
              "\n",
              "   Credit_History Property_Area Loan_Status  \n",
              "0             1.0         Urban           Y  \n",
              "1             1.0         Rural           N  \n",
              "2             1.0         Urban           Y  \n",
              "3             1.0         Urban           Y  \n",
              "4             1.0         Urban           Y  "
            ]
          },
          "execution_count": 27,
          "metadata": {},
          "output_type": "execute_result"
        }
      ],
      "source": [
        "df = pd.read_csv(r'C:\\Users\\acer\\Desktop\\Data_Analyst_Portfolio\\Loan_Approval_Prediction\\Dataset.csv')\n",
        "df.head()"
      ]
    },
    {
      "cell_type": "code",
      "execution_count": 28,
      "metadata": {
        "colab": {
          "base_uri": "https://localhost:8080/"
        },
        "id": "zO7L5Unh8Ynv",
        "outputId": "b23f5cd0-6dc7-44d0-88ab-160d6bff7f8e"
      },
      "outputs": [
        {
          "data": {
            "text/plain": [
              "(614, 13)"
            ]
          },
          "execution_count": 28,
          "metadata": {},
          "output_type": "execute_result"
        }
      ],
      "source": [
        "# Shape of dataset\n",
        "df.shape"
      ]
    },
    {
      "cell_type": "code",
      "execution_count": 29,
      "metadata": {
        "colab": {
          "base_uri": "https://localhost:8080/"
        },
        "id": "63LNNGPE8b6F",
        "outputId": "95796b0f-1ca0-433d-cafd-d5c17f1548f2"
      },
      "outputs": [
        {
          "data": {
            "text/plain": [
              "Index(['Loan_ID', 'Gender', 'Married', 'Dependents', 'Education',\n",
              "       'Self_Employed', 'ApplicantIncome', 'CoapplicantIncome', 'LoanAmount',\n",
              "       'Loan_Amount_Term', 'Credit_History', 'Property_Area', 'Loan_Status'],\n",
              "      dtype='object')"
            ]
          },
          "execution_count": 29,
          "metadata": {},
          "output_type": "execute_result"
        }
      ],
      "source": [
        "# Unique Columns in the dataset\n",
        "df.columns"
      ]
    },
    {
      "cell_type": "code",
      "execution_count": 30,
      "metadata": {
        "colab": {
          "base_uri": "https://localhost:8080/"
        },
        "id": "7NhuBA1C8gBH",
        "outputId": "e79a219c-0293-48b6-90e7-adfd50f99372"
      },
      "outputs": [
        {
          "name": "stdout",
          "output_type": "stream",
          "text": [
            "<class 'pandas.core.frame.DataFrame'>\n",
            "RangeIndex: 614 entries, 0 to 613\n",
            "Data columns (total 13 columns):\n",
            " #   Column             Non-Null Count  Dtype  \n",
            "---  ------             --------------  -----  \n",
            " 0   Loan_ID            614 non-null    object \n",
            " 1   Gender             601 non-null    object \n",
            " 2   Married            611 non-null    object \n",
            " 3   Dependents         599 non-null    object \n",
            " 4   Education          614 non-null    object \n",
            " 5   Self_Employed      582 non-null    object \n",
            " 6   ApplicantIncome    614 non-null    int64  \n",
            " 7   CoapplicantIncome  614 non-null    float64\n",
            " 8   LoanAmount         592 non-null    float64\n",
            " 9   Loan_Amount_Term   600 non-null    float64\n",
            " 10  Credit_History     564 non-null    float64\n",
            " 11  Property_Area      614 non-null    object \n",
            " 12  Loan_Status        614 non-null    object \n",
            "dtypes: float64(4), int64(1), object(8)\n",
            "memory usage: 62.5+ KB\n"
          ]
        }
      ],
      "source": [
        "# dataset information\n",
        "df.info()"
      ]
    },
    {
      "cell_type": "code",
      "execution_count": 31,
      "metadata": {
        "colab": {
          "base_uri": "https://localhost:8080/"
        },
        "id": "yg01vQjb8ptf",
        "outputId": "d87f9371-d255-4bab-fc6e-0d9fd422b1dc"
      },
      "outputs": [
        {
          "data": {
            "text/plain": [
              "Loan_ID               0\n",
              "Gender               13\n",
              "Married               3\n",
              "Dependents           15\n",
              "Education             0\n",
              "Self_Employed        32\n",
              "ApplicantIncome       0\n",
              "CoapplicantIncome     0\n",
              "LoanAmount           22\n",
              "Loan_Amount_Term     14\n",
              "Credit_History       50\n",
              "Property_Area         0\n",
              "Loan_Status           0\n",
              "dtype: int64"
            ]
          },
          "execution_count": 31,
          "metadata": {},
          "output_type": "execute_result"
        }
      ],
      "source": [
        "# Checking for null values\n",
        "df.isnull().sum()"
      ]
    },
    {
      "cell_type": "code",
      "execution_count": 32,
      "metadata": {
        "colab": {
          "base_uri": "https://localhost:8080/",
          "height": 694
        },
        "id": "3yYw7eKqBmvi",
        "outputId": "d3f17cdf-45db-49a8-a865-a91018c5c256"
      },
      "outputs": [
        {
          "data": {
            "text/plain": [
              "<Axes: >"
            ]
          },
          "execution_count": 32,
          "metadata": {},
          "output_type": "execute_result"
        },
        {
          "data": {
            "image/png": "[encoded data removed]",
            "text/plain": [
              "<Figure size 1200x800 with 1 Axes>"
            ]
          },
          "metadata": {},
          "output_type": "display_data"
        }
      ],
      "source": [
        "## Checking for outliers\n",
        "plt.figure(figsize=(12,8))\n",
        "sns.boxplot(data = df)"
      ]
    },
    {
      "cell_type": "code",
      "execution_count": 33,
      "metadata": {
        "id": "8FgwvGod8z5M"
      },
      "outputs": [],
      "source": [
        "## Fill the null values of numerical datatype\n",
        "df['LoanAmount'] = df['LoanAmount'].fillna(df['LoanAmount'].median())\n",
        "df['Loan_Amount_Term'] = df['Loan_Amount_Term'].fillna(df['Loan_Amount_Term'].mean())\n",
        "df['Credit_History'] = df['Credit_History'].fillna(df['Credit_History'].mean())\n",
        "\n"
      ]
    },
    {
      "cell_type": "code",
      "execution_count": 34,
      "metadata": {
        "id": "Up8_BKN5CjWa"
      },
      "outputs": [],
      "source": [
        "## Fill the null values of object datatype\n",
        "df['Gender'] = df['Gender'].fillna(df['Gender'].mode()[0])\n",
        "df['Married'] = df['Married'].fillna(df['Married'].mode()[0])\n",
        "df['Dependents'] = df['Dependents'].fillna(df['Dependents'].mode()[0])"
      ]
    },
    {
      "cell_type": "code",
      "execution_count": 35,
      "metadata": {
        "id": "AgoOrpnUECl7"
      },
      "outputs": [],
      "source": [
        "df['Self_Employed'] = df['Self_Employed'].fillna(df['Self_Employed'].mode()[0])"
      ]
    },
    {
      "cell_type": "code",
      "execution_count": 36,
      "metadata": {
        "colab": {
          "base_uri": "https://localhost:8080/"
        },
        "id": "YVcC0OPzCn8g",
        "outputId": "0eb7dfa4-4ced-4819-c9f6-884a8d75ef12"
      },
      "outputs": [
        {
          "data": {
            "text/plain": [
              "Loan_ID              0\n",
              "Gender               0\n",
              "Married              0\n",
              "Dependents           0\n",
              "Education            0\n",
              "Self_Employed        0\n",
              "ApplicantIncome      0\n",
              "CoapplicantIncome    0\n",
              "LoanAmount           0\n",
              "Loan_Amount_Term     0\n",
              "Credit_History       0\n",
              "Property_Area        0\n",
              "Loan_Status          0\n",
              "dtype: int64"
            ]
          },
          "execution_count": 36,
          "metadata": {},
          "output_type": "execute_result"
        }
      ],
      "source": [
        "df.isnull().sum()"
      ]
    },
    {
      "cell_type": "code",
      "execution_count": 37,
      "metadata": {
        "colab": {
          "base_uri": "https://localhost:8080/",
          "height": 539
        },
        "id": "Ns1rNyJPD-dN",
        "outputId": "6af5c6d7-09e3-4bec-8af8-22f06b48badd"
      },
      "outputs": [
        {
          "name": "stdout",
          "output_type": "stream",
          "text": [
            "Number of people who took loan by gender\n",
            "Gender\n",
            "Male      502\n",
            "Female    112\n",
            "Name: count, dtype: int64\n"
          ]
        },
        {
          "data": {
            "text/plain": [
              "<Axes: xlabel='Gender', ylabel='count'>"
            ]
          },
          "execution_count": 37,
          "metadata": {},
          "output_type": "execute_result"
        },
        {
          "data": {
            "image/png": "[encoded data removed]",
            "text/plain": [
              "<Figure size 640x480 with 1 Axes>"
            ]
          },
          "metadata": {},
          "output_type": "display_data"
        }
      ],
      "source": [
        "print('Number of people who took loan by gender')\n",
        "print(df['Gender'].value_counts())\n",
        "sns.countplot(x='Gender',data = df, palette='Set3')"
      ]
    },
    {
      "cell_type": "code",
      "execution_count": 38,
      "metadata": {
        "colab": {
          "base_uri": "https://localhost:8080/",
          "height": 539
        },
        "id": "vSNJgTWTUD-H",
        "outputId": "f5bf5581-f792-4b89-f728-30a71517aa72"
      },
      "outputs": [
        {
          "name": "stdout",
          "output_type": "stream",
          "text": [
            "Number of people who took loan by Married\n",
            "Married\n",
            "Yes    401\n",
            "No     213\n",
            "Name: count, dtype: int64\n"
          ]
        },
        {
          "data": {
            "text/plain": [
              "<Axes: xlabel='Married', ylabel='count'>"
            ]
          },
          "execution_count": 38,
          "metadata": {},
          "output_type": "execute_result"
        },
        {
          "data": {
            "image/png": "[encoded data removed]",
            "text/plain": [
              "<Figure size 640x480 with 1 Axes>"
            ]
          },
          "metadata": {},
          "output_type": "display_data"
        }
      ],
      "source": [
        "print('Number of people who took loan by Married')\n",
        "print(df['Married'].value_counts())\n",
        "sns.countplot(x='Married',data = df, palette='Set3')"
      ]
    },
    {
      "cell_type": "code",
      "execution_count": 39,
      "metadata": {
        "colab": {
          "base_uri": "https://localhost:8080/",
          "height": 542
        },
        "id": "j7qnxsnkUIn-",
        "outputId": "1d21bc62-bc74-4aa7-ce64-9f36379316f2"
      },
      "outputs": [
        {
          "name": "stdout",
          "output_type": "stream",
          "text": [
            "Number of people who took loan by Education\n",
            "Education\n",
            "Graduate        480\n",
            "Not Graduate    134\n",
            "Name: count, dtype: int64\n"
          ]
        },
        {
          "data": {
            "text/plain": [
              "<Axes: xlabel='Education', ylabel='count'>"
            ]
          },
          "execution_count": 39,
          "metadata": {},
          "output_type": "execute_result"
        },
        {
          "data": {
            "image/png": "[encoded data removed]",
            "text/plain": [
              "<Figure size 640x480 with 1 Axes>"
            ]
          },
          "metadata": {},
          "output_type": "display_data"
        }
      ],
      "source": [
        "print('Number of people who took loan by Education')\n",
        "print(df['Education'].value_counts())\n",
        "sns.countplot(x='Education',data = df, palette='Set3')"
      ]
    },
    {
      "cell_type": "code",
      "execution_count": 40,
      "metadata": {},
      "outputs": [],
      "source": [
        "# Segregate Numerical and Categorical variables\n",
        "numeric_data = df.select_dtypes(include=[np.number])\n",
        "categorical_data = df.select_dtypes(exclude=[np.number])"
      ]
    },
    {
      "cell_type": "code",
      "execution_count": 41,
      "metadata": {},
      "outputs": [
        {
          "data": {
            "text/plain": [
              "array([[1.        , 0.94405185, 0.99826188, ..., 0.99926164, 0.99988578,\n",
              "        0.99986579],\n",
              "       [0.94405185, 1.        , 0.936871  , ..., 0.95353547, 0.94494417,\n",
              "        0.94153961],\n",
              "       [0.99826188, 0.936871  , 1.        , ..., 0.99578365, 0.99727069,\n",
              "        0.99900643],\n",
              "       ...,\n",
              "       [0.99926164, 0.95353547, 0.99578365, ..., 1.        , 0.99957471,\n",
              "        0.99865893],\n",
              "       [0.99988578, 0.94494417, 0.99727069, ..., 0.99957471, 1.        ,\n",
              "        0.99954754],\n",
              "       [0.99986579, 0.94153961, 0.99900643, ..., 0.99865893, 0.99954754,\n",
              "        1.        ]])"
            ]
          },
          "execution_count": 41,
          "metadata": {},
          "output_type": "execute_result"
        }
      ],
      "source": [
        "# Correlation\n",
        "matrix = np.corrcoef(numeric_data)\n",
        "matrix"
      ]
    },
    {
      "cell_type": "code",
      "execution_count": 42,
      "metadata": {
        "colab": {
          "base_uri": "https://localhost:8080/",
          "height": 821
        },
        "id": "Extf68eNUVB8",
        "outputId": "8a84ca22-f004-4d0a-c495-7befcf957422"
      },
      "outputs": [
        {
          "data": {
            "text/plain": [
              "<Axes: >"
            ]
          },
          "execution_count": 42,
          "metadata": {},
          "output_type": "execute_result"
        },
        {
          "data": {
            "image/png": "[encoded data removed]",
            "text/plain": [
              "<Figure size 1000x800 with 2 Axes>"
            ]
          },
          "metadata": {},
          "output_type": "display_data"
        }
      ],
      "source": [
        "corr = numeric_data.corr()\n",
        "plt.figure(figsize=(10,8))\n",
        "sns.heatmap(corr,annot = True, cmap = 'winter')"
      ]
    },
    {
      "cell_type": "code",
      "execution_count": 43,
      "metadata": {
        "colab": {
          "base_uri": "https://localhost:8080/",
          "height": 206
        },
        "id": "5GPGCnIeUugs",
        "outputId": "5db34c7d-faf8-4ecc-85d5-5643afa912ac"
      },
      "outputs": [
        {
          "data": {
            "text/html": [
              "<div>\n",
              "<style scoped>\n",
              "    .dataframe tbody tr th:only-of-type {\n",
              "        vertical-align: middle;\n",
              "    }\n",
              "\n",
              "    .dataframe tbody tr th {\n",
              "        vertical-align: top;\n",
              "    }\n",
              "\n",
              "    .dataframe thead th {\n",
              "        text-align: right;\n",
              "    }\n",
              "</style>\n",
              "<table border=\"1\" class=\"dataframe\">\n",
              "  <thead>\n",
              "    <tr style=\"text-align: right;\">\n",
              "      <th></th>\n",
              "      <th>ApplicantIncome</th>\n",
              "      <th>CoapplicantIncome</th>\n",
              "      <th>LoanAmount</th>\n",
              "      <th>Loan_Amount_Term</th>\n",
              "      <th>Credit_History</th>\n",
              "    </tr>\n",
              "  </thead>\n",
              "  <tbody>\n",
              "    <tr>\n",
              "      <th>ApplicantIncome</th>\n",
              "      <td>1.000000</td>\n",
              "      <td>-0.116605</td>\n",
              "      <td>0.565181</td>\n",
              "      <td>-0.045242</td>\n",
              "      <td>-0.014477</td>\n",
              "    </tr>\n",
              "    <tr>\n",
              "      <th>CoapplicantIncome</th>\n",
              "      <td>-0.116605</td>\n",
              "      <td>1.000000</td>\n",
              "      <td>0.189218</td>\n",
              "      <td>-0.059675</td>\n",
              "      <td>-0.001665</td>\n",
              "    </tr>\n",
              "    <tr>\n",
              "      <th>LoanAmount</th>\n",
              "      <td>0.565181</td>\n",
              "      <td>0.189218</td>\n",
              "      <td>1.000000</td>\n",
              "      <td>0.039235</td>\n",
              "      <td>-0.007031</td>\n",
              "    </tr>\n",
              "    <tr>\n",
              "      <th>Loan_Amount_Term</th>\n",
              "      <td>-0.045242</td>\n",
              "      <td>-0.059675</td>\n",
              "      <td>0.039235</td>\n",
              "      <td>1.000000</td>\n",
              "      <td>0.001395</td>\n",
              "    </tr>\n",
              "    <tr>\n",
              "      <th>Credit_History</th>\n",
              "      <td>-0.014477</td>\n",
              "      <td>-0.001665</td>\n",
              "      <td>-0.007031</td>\n",
              "      <td>0.001395</td>\n",
              "      <td>1.000000</td>\n",
              "    </tr>\n",
              "  </tbody>\n",
              "</table>\n",
              "</div>"
            ],
            "text/plain": [
              "                   ApplicantIncome  CoapplicantIncome  LoanAmount  \\\n",
              "ApplicantIncome           1.000000          -0.116605    0.565181   \n",
              "CoapplicantIncome        -0.116605           1.000000    0.189218   \n",
              "LoanAmount                0.565181           0.189218    1.000000   \n",
              "Loan_Amount_Term         -0.045242          -0.059675    0.039235   \n",
              "Credit_History           -0.014477          -0.001665   -0.007031   \n",
              "\n",
              "                   Loan_Amount_Term  Credit_History  \n",
              "ApplicantIncome           -0.045242       -0.014477  \n",
              "CoapplicantIncome         -0.059675       -0.001665  \n",
              "LoanAmount                 0.039235       -0.007031  \n",
              "Loan_Amount_Term           1.000000        0.001395  \n",
              "Credit_History             0.001395        1.000000  "
            ]
          },
          "execution_count": 43,
          "metadata": {},
          "output_type": "execute_result"
        }
      ],
      "source": [
        "corr = numeric_data.corr()\n",
        "corr\n"
      ]
    },
    {
      "cell_type": "code",
      "execution_count": 44,
      "metadata": {
        "colab": {
          "base_uri": "https://localhost:8080/",
          "height": 243
        },
        "id": "zUv6I17LVgpb",
        "outputId": "eddbf91a-be6e-4963-c7c4-ae9c7f9d192e"
      },
      "outputs": [
        {
          "data": {
            "text/html": [
              "<div>\n",
              "<style scoped>\n",
              "    .dataframe tbody tr th:only-of-type {\n",
              "        vertical-align: middle;\n",
              "    }\n",
              "\n",
              "    .dataframe tbody tr th {\n",
              "        vertical-align: top;\n",
              "    }\n",
              "\n",
              "    .dataframe thead th {\n",
              "        text-align: right;\n",
              "    }\n",
              "</style>\n",
              "<table border=\"1\" class=\"dataframe\">\n",
              "  <thead>\n",
              "    <tr style=\"text-align: right;\">\n",
              "      <th></th>\n",
              "      <th>Loan_ID</th>\n",
              "      <th>Gender</th>\n",
              "      <th>Married</th>\n",
              "      <th>Dependents</th>\n",
              "      <th>Education</th>\n",
              "      <th>Self_Employed</th>\n",
              "      <th>ApplicantIncome</th>\n",
              "      <th>CoapplicantIncome</th>\n",
              "      <th>LoanAmount</th>\n",
              "      <th>Loan_Amount_Term</th>\n",
              "      <th>Credit_History</th>\n",
              "      <th>Property_Area</th>\n",
              "      <th>Loan_Status</th>\n",
              "      <th>Total_Income</th>\n",
              "    </tr>\n",
              "  </thead>\n",
              "  <tbody>\n",
              "    <tr>\n",
              "      <th>0</th>\n",
              "      <td>LP001002</td>\n",
              "      <td>Male</td>\n",
              "      <td>No</td>\n",
              "      <td>0</td>\n",
              "      <td>Graduate</td>\n",
              "      <td>No</td>\n",
              "      <td>5849</td>\n",
              "      <td>0.0</td>\n",
              "      <td>128.0</td>\n",
              "      <td>360.0</td>\n",
              "      <td>1.0</td>\n",
              "      <td>Urban</td>\n",
              "      <td>Y</td>\n",
              "      <td>5849.0</td>\n",
              "    </tr>\n",
              "    <tr>\n",
              "      <th>1</th>\n",
              "      <td>LP001003</td>\n",
              "      <td>Male</td>\n",
              "      <td>Yes</td>\n",
              "      <td>1</td>\n",
              "      <td>Graduate</td>\n",
              "      <td>No</td>\n",
              "      <td>4583</td>\n",
              "      <td>1508.0</td>\n",
              "      <td>128.0</td>\n",
              "      <td>360.0</td>\n",
              "      <td>1.0</td>\n",
              "      <td>Rural</td>\n",
              "      <td>N</td>\n",
              "      <td>6091.0</td>\n",
              "    </tr>\n",
              "    <tr>\n",
              "      <th>2</th>\n",
              "      <td>LP001005</td>\n",
              "      <td>Male</td>\n",
              "      <td>Yes</td>\n",
              "      <td>0</td>\n",
              "      <td>Graduate</td>\n",
              "      <td>Yes</td>\n",
              "      <td>3000</td>\n",
              "      <td>0.0</td>\n",
              "      <td>66.0</td>\n",
              "      <td>360.0</td>\n",
              "      <td>1.0</td>\n",
              "      <td>Urban</td>\n",
              "      <td>Y</td>\n",
              "      <td>3000.0</td>\n",
              "    </tr>\n",
              "    <tr>\n",
              "      <th>3</th>\n",
              "      <td>LP001006</td>\n",
              "      <td>Male</td>\n",
              "      <td>Yes</td>\n",
              "      <td>0</td>\n",
              "      <td>Not Graduate</td>\n",
              "      <td>No</td>\n",
              "      <td>2583</td>\n",
              "      <td>2358.0</td>\n",
              "      <td>120.0</td>\n",
              "      <td>360.0</td>\n",
              "      <td>1.0</td>\n",
              "      <td>Urban</td>\n",
              "      <td>Y</td>\n",
              "      <td>4941.0</td>\n",
              "    </tr>\n",
              "    <tr>\n",
              "      <th>4</th>\n",
              "      <td>LP001008</td>\n",
              "      <td>Male</td>\n",
              "      <td>No</td>\n",
              "      <td>0</td>\n",
              "      <td>Graduate</td>\n",
              "      <td>No</td>\n",
              "      <td>6000</td>\n",
              "      <td>0.0</td>\n",
              "      <td>141.0</td>\n",
              "      <td>360.0</td>\n",
              "      <td>1.0</td>\n",
              "      <td>Urban</td>\n",
              "      <td>Y</td>\n",
              "      <td>6000.0</td>\n",
              "    </tr>\n",
              "  </tbody>\n",
              "</table>\n",
              "</div>"
            ],
            "text/plain": [
              "    Loan_ID Gender Married Dependents     Education Self_Employed  \\\n",
              "0  LP001002   Male      No          0      Graduate            No   \n",
              "1  LP001003   Male     Yes          1      Graduate            No   \n",
              "2  LP001005   Male     Yes          0      Graduate           Yes   \n",
              "3  LP001006   Male     Yes          0  Not Graduate            No   \n",
              "4  LP001008   Male      No          0      Graduate            No   \n",
              "\n",
              "   ApplicantIncome  CoapplicantIncome  LoanAmount  Loan_Amount_Term  \\\n",
              "0             5849                0.0       128.0             360.0   \n",
              "1             4583             1508.0       128.0             360.0   \n",
              "2             3000                0.0        66.0             360.0   \n",
              "3             2583             2358.0       120.0             360.0   \n",
              "4             6000                0.0       141.0             360.0   \n",
              "\n",
              "   Credit_History Property_Area Loan_Status  Total_Income  \n",
              "0             1.0         Urban           Y        5849.0  \n",
              "1             1.0         Rural           N        6091.0  \n",
              "2             1.0         Urban           Y        3000.0  \n",
              "3             1.0         Urban           Y        4941.0  \n",
              "4             1.0         Urban           Y        6000.0  "
            ]
          },
          "execution_count": 44,
          "metadata": {},
          "output_type": "execute_result"
        }
      ],
      "source": [
        "## Total Applicant Income\n",
        "\n",
        "df['Total_Income'] = df['ApplicantIncome'] + df['CoapplicantIncome']\n",
        "df.head()"
      ]
    },
    {
      "cell_type": "code",
      "execution_count": 45,
      "metadata": {
        "colab": {
          "base_uri": "https://localhost:8080/",
          "height": 467
        },
        "id": "TjCiclLHXVdn",
        "outputId": "aa478939-1db5-4086-d3e1-c380d58c0db7"
      },
      "outputs": [
        {
          "data": {
            "text/plain": [
              "<Axes: xlabel='ApplicantIncomelog', ylabel='Density'>"
            ]
          },
          "execution_count": 45,
          "metadata": {},
          "output_type": "execute_result"
        },
        {
          "data": {
            "image/png": "[encoded data removed]",
            "text/plain": [
              "<Figure size 640x480 with 1 Axes>"
            ]
          },
          "metadata": {},
          "output_type": "display_data"
        }
      ],
      "source": [
        "## Apply Log Transformation\n",
        "\n",
        "df['ApplicantIncomelog'] = np.log(df['ApplicantIncome'] + 1)\n",
        "sns.distplot(df['ApplicantIncomelog'])"
      ]
    },
    {
      "cell_type": "code",
      "execution_count": 46,
      "metadata": {
        "colab": {
          "base_uri": "https://localhost:8080/",
          "height": 467
        },
        "id": "z0zol-IqYRH7",
        "outputId": "ab74fb44-7e58-4e02-f26e-5ff428ace8da"
      },
      "outputs": [
        {
          "data": {
            "text/plain": [
              "<Axes: xlabel='LoanAmountlog', ylabel='Density'>"
            ]
          },
          "execution_count": 46,
          "metadata": {},
          "output_type": "execute_result"
        },
        {
          "data": {
            "image/png": "[encoded data removed]",
            "text/plain": [
              "<Figure size 640x480 with 1 Axes>"
            ]
          },
          "metadata": {},
          "output_type": "display_data"
        }
      ],
      "source": [
        "\n",
        "df['LoanAmountlog'] = np.log(df['LoanAmount'] + 1)\n",
        "sns.distplot(df['LoanAmountlog'])"
      ]
    },
    {
      "cell_type": "code",
      "execution_count": 47,
      "metadata": {
        "colab": {
          "base_uri": "https://localhost:8080/",
          "height": 468
        },
        "id": "54EQ4V5hYtmR",
        "outputId": "180e5d4c-033d-44d0-f704-4d24baec698d"
      },
      "outputs": [
        {
          "data": {
            "text/plain": [
              "<Axes: xlabel='Loan_Amount_Term_log', ylabel='Density'>"
            ]
          },
          "execution_count": 47,
          "metadata": {},
          "output_type": "execute_result"
        },
        {
          "data": {
            "image/png": "[encoded data removed]",
            "text/plain": [
              "<Figure size 640x480 with 1 Axes>"
            ]
          },
          "metadata": {},
          "output_type": "display_data"
        }
      ],
      "source": [
        "\n",
        "df['Loan_Amount_Term_log'] = np.log(df['Loan_Amount_Term'] + 1)\n",
        "sns.distplot(df['Loan_Amount_Term_log'])"
      ]
    },
    {
      "cell_type": "code",
      "execution_count": 48,
      "metadata": {
        "colab": {
          "base_uri": "https://localhost:8080/",
          "height": 468
        },
        "id": "NjBQxOl6ZEve",
        "outputId": "e08ff110-ba76-4a59-b9fc-10db562ea52d"
      },
      "outputs": [
        {
          "data": {
            "text/plain": [
              "<Axes: xlabel='Total_Income_log', ylabel='Density'>"
            ]
          },
          "execution_count": 48,
          "metadata": {},
          "output_type": "execute_result"
        },
        {
          "data": {
            "image/png": "[encoded data removed]",
            "text/plain": [
              "<Figure size 640x480 with 1 Axes>"
            ]
          },
          "metadata": {},
          "output_type": "display_data"
        }
      ],
      "source": [
        "\n",
        "df['Total_Income_log'] = np.log(df['Total_Income'] + 1)\n",
        "sns.distplot(df['Total_Income_log'])"
      ]
    },
    {
      "cell_type": "code",
      "execution_count": 49,
      "metadata": {
        "colab": {
          "base_uri": "https://localhost:8080/",
          "height": 243
        },
        "id": "2083U7fYZRwe",
        "outputId": "29653667-2f94-4de8-ac2c-1772942c73ec"
      },
      "outputs": [
        {
          "data": {
            "text/html": [
              "<div>\n",
              "<style scoped>\n",
              "    .dataframe tbody tr th:only-of-type {\n",
              "        vertical-align: middle;\n",
              "    }\n",
              "\n",
              "    .dataframe tbody tr th {\n",
              "        vertical-align: top;\n",
              "    }\n",
              "\n",
              "    .dataframe thead th {\n",
              "        text-align: right;\n",
              "    }\n",
              "</style>\n",
              "<table border=\"1\" class=\"dataframe\">\n",
              "  <thead>\n",
              "    <tr style=\"text-align: right;\">\n",
              "      <th></th>\n",
              "      <th>Loan_ID</th>\n",
              "      <th>Gender</th>\n",
              "      <th>Married</th>\n",
              "      <th>Dependents</th>\n",
              "      <th>Education</th>\n",
              "      <th>Self_Employed</th>\n",
              "      <th>ApplicantIncome</th>\n",
              "      <th>CoapplicantIncome</th>\n",
              "      <th>LoanAmount</th>\n",
              "      <th>Loan_Amount_Term</th>\n",
              "      <th>Credit_History</th>\n",
              "      <th>Property_Area</th>\n",
              "      <th>Loan_Status</th>\n",
              "      <th>Total_Income</th>\n",
              "      <th>ApplicantIncomelog</th>\n",
              "      <th>LoanAmountlog</th>\n",
              "      <th>Loan_Amount_Term_log</th>\n",
              "      <th>Total_Income_log</th>\n",
              "    </tr>\n",
              "  </thead>\n",
              "  <tbody>\n",
              "    <tr>\n",
              "      <th>0</th>\n",
              "      <td>LP001002</td>\n",
              "      <td>Male</td>\n",
              "      <td>No</td>\n",
              "      <td>0</td>\n",
              "      <td>Graduate</td>\n",
              "      <td>No</td>\n",
              "      <td>5849</td>\n",
              "      <td>0.0</td>\n",
              "      <td>128.0</td>\n",
              "      <td>360.0</td>\n",
              "      <td>1.0</td>\n",
              "      <td>Urban</td>\n",
              "      <td>Y</td>\n",
              "      <td>5849.0</td>\n",
              "      <td>8.674197</td>\n",
              "      <td>4.859812</td>\n",
              "      <td>5.888878</td>\n",
              "      <td>8.674197</td>\n",
              "    </tr>\n",
              "    <tr>\n",
              "      <th>1</th>\n",
              "      <td>LP001003</td>\n",
              "      <td>Male</td>\n",
              "      <td>Yes</td>\n",
              "      <td>1</td>\n",
              "      <td>Graduate</td>\n",
              "      <td>No</td>\n",
              "      <td>4583</td>\n",
              "      <td>1508.0</td>\n",
              "      <td>128.0</td>\n",
              "      <td>360.0</td>\n",
              "      <td>1.0</td>\n",
              "      <td>Rural</td>\n",
              "      <td>N</td>\n",
              "      <td>6091.0</td>\n",
              "      <td>8.430327</td>\n",
              "      <td>4.859812</td>\n",
              "      <td>5.888878</td>\n",
              "      <td>8.714732</td>\n",
              "    </tr>\n",
              "    <tr>\n",
              "      <th>2</th>\n",
              "      <td>LP001005</td>\n",
              "      <td>Male</td>\n",
              "      <td>Yes</td>\n",
              "      <td>0</td>\n",
              "      <td>Graduate</td>\n",
              "      <td>Yes</td>\n",
              "      <td>3000</td>\n",
              "      <td>0.0</td>\n",
              "      <td>66.0</td>\n",
              "      <td>360.0</td>\n",
              "      <td>1.0</td>\n",
              "      <td>Urban</td>\n",
              "      <td>Y</td>\n",
              "      <td>3000.0</td>\n",
              "      <td>8.006701</td>\n",
              "      <td>4.204693</td>\n",
              "      <td>5.888878</td>\n",
              "      <td>8.006701</td>\n",
              "    </tr>\n",
              "    <tr>\n",
              "      <th>3</th>\n",
              "      <td>LP001006</td>\n",
              "      <td>Male</td>\n",
              "      <td>Yes</td>\n",
              "      <td>0</td>\n",
              "      <td>Not Graduate</td>\n",
              "      <td>No</td>\n",
              "      <td>2583</td>\n",
              "      <td>2358.0</td>\n",
              "      <td>120.0</td>\n",
              "      <td>360.0</td>\n",
              "      <td>1.0</td>\n",
              "      <td>Urban</td>\n",
              "      <td>Y</td>\n",
              "      <td>4941.0</td>\n",
              "      <td>7.857094</td>\n",
              "      <td>4.795791</td>\n",
              "      <td>5.888878</td>\n",
              "      <td>8.505525</td>\n",
              "    </tr>\n",
              "    <tr>\n",
              "      <th>4</th>\n",
              "      <td>LP001008</td>\n",
              "      <td>Male</td>\n",
              "      <td>No</td>\n",
              "      <td>0</td>\n",
              "      <td>Graduate</td>\n",
              "      <td>No</td>\n",
              "      <td>6000</td>\n",
              "      <td>0.0</td>\n",
              "      <td>141.0</td>\n",
              "      <td>360.0</td>\n",
              "      <td>1.0</td>\n",
              "      <td>Urban</td>\n",
              "      <td>Y</td>\n",
              "      <td>6000.0</td>\n",
              "      <td>8.699681</td>\n",
              "      <td>4.955827</td>\n",
              "      <td>5.888878</td>\n",
              "      <td>8.699681</td>\n",
              "    </tr>\n",
              "  </tbody>\n",
              "</table>\n",
              "</div>"
            ],
            "text/plain": [
              "    Loan_ID Gender Married Dependents     Education Self_Employed  \\\n",
              "0  LP001002   Male      No          0      Graduate            No   \n",
              "1  LP001003   Male     Yes          1      Graduate            No   \n",
              "2  LP001005   Male     Yes          0      Graduate           Yes   \n",
              "3  LP001006   Male     Yes          0  Not Graduate            No   \n",
              "4  LP001008   Male      No          0      Graduate            No   \n",
              "\n",
              "   ApplicantIncome  CoapplicantIncome  LoanAmount  Loan_Amount_Term  \\\n",
              "0             5849                0.0       128.0             360.0   \n",
              "1             4583             1508.0       128.0             360.0   \n",
              "2             3000                0.0        66.0             360.0   \n",
              "3             2583             2358.0       120.0             360.0   \n",
              "4             6000                0.0       141.0             360.0   \n",
              "\n",
              "   Credit_History Property_Area Loan_Status  Total_Income  ApplicantIncomelog  \\\n",
              "0             1.0         Urban           Y        5849.0            8.674197   \n",
              "1             1.0         Rural           N        6091.0            8.430327   \n",
              "2             1.0         Urban           Y        3000.0            8.006701   \n",
              "3             1.0         Urban           Y        4941.0            7.857094   \n",
              "4             1.0         Urban           Y        6000.0            8.699681   \n",
              "\n",
              "   LoanAmountlog  Loan_Amount_Term_log  Total_Income_log  \n",
              "0       4.859812              5.888878          8.674197  \n",
              "1       4.859812              5.888878          8.714732  \n",
              "2       4.204693              5.888878          8.006701  \n",
              "3       4.795791              5.888878          8.505525  \n",
              "4       4.955827              5.888878          8.699681  "
            ]
          },
          "execution_count": 49,
          "metadata": {},
          "output_type": "execute_result"
        }
      ],
      "source": [
        "df.head()"
      ]
    },
    {
      "cell_type": "code",
      "execution_count": 50,
      "metadata": {
        "colab": {
          "base_uri": "https://localhost:8080/",
          "height": 243
        },
        "id": "duv9qXzWZU7O",
        "outputId": "75d0df18-19c9-4470-e9f1-234e6a0b984b"
      },
      "outputs": [
        {
          "data": {
            "text/html": [
              "<div>\n",
              "<style scoped>\n",
              "    .dataframe tbody tr th:only-of-type {\n",
              "        vertical-align: middle;\n",
              "    }\n",
              "\n",
              "    .dataframe tbody tr th {\n",
              "        vertical-align: top;\n",
              "    }\n",
              "\n",
              "    .dataframe thead th {\n",
              "        text-align: right;\n",
              "    }\n",
              "</style>\n",
              "<table border=\"1\" class=\"dataframe\">\n",
              "  <thead>\n",
              "    <tr style=\"text-align: right;\">\n",
              "      <th></th>\n",
              "      <th>Gender</th>\n",
              "      <th>Married</th>\n",
              "      <th>Dependents</th>\n",
              "      <th>Education</th>\n",
              "      <th>Self_Employed</th>\n",
              "      <th>Credit_History</th>\n",
              "      <th>Property_Area</th>\n",
              "      <th>Loan_Status</th>\n",
              "      <th>ApplicantIncomelog</th>\n",
              "      <th>LoanAmountlog</th>\n",
              "      <th>Loan_Amount_Term_log</th>\n",
              "      <th>Total_Income_log</th>\n",
              "    </tr>\n",
              "  </thead>\n",
              "  <tbody>\n",
              "    <tr>\n",
              "      <th>0</th>\n",
              "      <td>Male</td>\n",
              "      <td>No</td>\n",
              "      <td>0</td>\n",
              "      <td>Graduate</td>\n",
              "      <td>No</td>\n",
              "      <td>1.0</td>\n",
              "      <td>Urban</td>\n",
              "      <td>Y</td>\n",
              "      <td>8.674197</td>\n",
              "      <td>4.859812</td>\n",
              "      <td>5.888878</td>\n",
              "      <td>8.674197</td>\n",
              "    </tr>\n",
              "    <tr>\n",
              "      <th>1</th>\n",
              "      <td>Male</td>\n",
              "      <td>Yes</td>\n",
              "      <td>1</td>\n",
              "      <td>Graduate</td>\n",
              "      <td>No</td>\n",
              "      <td>1.0</td>\n",
              "      <td>Rural</td>\n",
              "      <td>N</td>\n",
              "      <td>8.430327</td>\n",
              "      <td>4.859812</td>\n",
              "      <td>5.888878</td>\n",
              "      <td>8.714732</td>\n",
              "    </tr>\n",
              "    <tr>\n",
              "      <th>2</th>\n",
              "      <td>Male</td>\n",
              "      <td>Yes</td>\n",
              "      <td>0</td>\n",
              "      <td>Graduate</td>\n",
              "      <td>Yes</td>\n",
              "      <td>1.0</td>\n",
              "      <td>Urban</td>\n",
              "      <td>Y</td>\n",
              "      <td>8.006701</td>\n",
              "      <td>4.204693</td>\n",
              "      <td>5.888878</td>\n",
              "      <td>8.006701</td>\n",
              "    </tr>\n",
              "    <tr>\n",
              "      <th>3</th>\n",
              "      <td>Male</td>\n",
              "      <td>Yes</td>\n",
              "      <td>0</td>\n",
              "      <td>Not Graduate</td>\n",
              "      <td>No</td>\n",
              "      <td>1.0</td>\n",
              "      <td>Urban</td>\n",
              "      <td>Y</td>\n",
              "      <td>7.857094</td>\n",
              "      <td>4.795791</td>\n",
              "      <td>5.888878</td>\n",
              "      <td>8.505525</td>\n",
              "    </tr>\n",
              "    <tr>\n",
              "      <th>4</th>\n",
              "      <td>Male</td>\n",
              "      <td>No</td>\n",
              "      <td>0</td>\n",
              "      <td>Graduate</td>\n",
              "      <td>No</td>\n",
              "      <td>1.0</td>\n",
              "      <td>Urban</td>\n",
              "      <td>Y</td>\n",
              "      <td>8.699681</td>\n",
              "      <td>4.955827</td>\n",
              "      <td>5.888878</td>\n",
              "      <td>8.699681</td>\n",
              "    </tr>\n",
              "  </tbody>\n",
              "</table>\n",
              "</div>"
            ],
            "text/plain": [
              "  Gender Married Dependents     Education Self_Employed  Credit_History  \\\n",
              "0   Male      No          0      Graduate            No             1.0   \n",
              "1   Male     Yes          1      Graduate            No             1.0   \n",
              "2   Male     Yes          0      Graduate           Yes             1.0   \n",
              "3   Male     Yes          0  Not Graduate            No             1.0   \n",
              "4   Male      No          0      Graduate            No             1.0   \n",
              "\n",
              "  Property_Area Loan_Status  ApplicantIncomelog  LoanAmountlog  \\\n",
              "0         Urban           Y            8.674197       4.859812   \n",
              "1         Rural           N            8.430327       4.859812   \n",
              "2         Urban           Y            8.006701       4.204693   \n",
              "3         Urban           Y            7.857094       4.795791   \n",
              "4         Urban           Y            8.699681       4.955827   \n",
              "\n",
              "   Loan_Amount_Term_log  Total_Income_log  \n",
              "0              5.888878          8.674197  \n",
              "1              5.888878          8.714732  \n",
              "2              5.888878          8.006701  \n",
              "3              5.888878          8.505525  \n",
              "4              5.888878          8.699681  "
            ]
          },
          "execution_count": 50,
          "metadata": {},
          "output_type": "execute_result"
        }
      ],
      "source": [
        "## drop unnecessary columns\n",
        "cols = ['ApplicantIncome','CoapplicantIncome','LoanAmount','Loan_Amount_Term','Total_Income','Loan_ID']\n",
        "df = df.drop(columns = cols, axis = 1)\n",
        "df.head()"
      ]
    },
    {
      "cell_type": "code",
      "execution_count": 51,
      "metadata": {
        "id": "SurDixF4aJfm"
      },
      "outputs": [],
      "source": [
        "## Encoding Technique : Label Encoding, One Hot Encoding\n",
        "\n",
        "from sklearn.preprocessing import LabelEncoder\n",
        "cols = ['Gender','Married','Education','Dependents','Self_Employed','Property_Area','Loan_Status']\n",
        "le =  LabelEncoder()\n",
        "for col in cols:\n",
        "  df[col] =  le.fit_transform(df[col])"
      ]
    },
    {
      "cell_type": "code",
      "execution_count": 52,
      "metadata": {
        "colab": {
          "base_uri": "https://localhost:8080/",
          "height": 226
        },
        "id": "-FuVmwUwbZKF",
        "outputId": "864a72f9-57d3-42e9-8df8-36baee44ef95"
      },
      "outputs": [
        {
          "data": {
            "text/html": [
              "<div>\n",
              "<style scoped>\n",
              "    .dataframe tbody tr th:only-of-type {\n",
              "        vertical-align: middle;\n",
              "    }\n",
              "\n",
              "    .dataframe tbody tr th {\n",
              "        vertical-align: top;\n",
              "    }\n",
              "\n",
              "    .dataframe thead th {\n",
              "        text-align: right;\n",
              "    }\n",
              "</style>\n",
              "<table border=\"1\" class=\"dataframe\">\n",
              "  <thead>\n",
              "    <tr style=\"text-align: right;\">\n",
              "      <th></th>\n",
              "      <th>Gender</th>\n",
              "      <th>Married</th>\n",
              "      <th>Dependents</th>\n",
              "      <th>Education</th>\n",
              "      <th>Self_Employed</th>\n",
              "      <th>Credit_History</th>\n",
              "      <th>Property_Area</th>\n",
              "      <th>Loan_Status</th>\n",
              "      <th>ApplicantIncomelog</th>\n",
              "      <th>LoanAmountlog</th>\n",
              "      <th>Loan_Amount_Term_log</th>\n",
              "      <th>Total_Income_log</th>\n",
              "    </tr>\n",
              "  </thead>\n",
              "  <tbody>\n",
              "    <tr>\n",
              "      <th>0</th>\n",
              "      <td>1</td>\n",
              "      <td>0</td>\n",
              "      <td>0</td>\n",
              "      <td>0</td>\n",
              "      <td>0</td>\n",
              "      <td>1.0</td>\n",
              "      <td>2</td>\n",
              "      <td>1</td>\n",
              "      <td>8.674197</td>\n",
              "      <td>4.859812</td>\n",
              "      <td>5.888878</td>\n",
              "      <td>8.674197</td>\n",
              "    </tr>\n",
              "    <tr>\n",
              "      <th>1</th>\n",
              "      <td>1</td>\n",
              "      <td>1</td>\n",
              "      <td>1</td>\n",
              "      <td>0</td>\n",
              "      <td>0</td>\n",
              "      <td>1.0</td>\n",
              "      <td>0</td>\n",
              "      <td>0</td>\n",
              "      <td>8.430327</td>\n",
              "      <td>4.859812</td>\n",
              "      <td>5.888878</td>\n",
              "      <td>8.714732</td>\n",
              "    </tr>\n",
              "    <tr>\n",
              "      <th>2</th>\n",
              "      <td>1</td>\n",
              "      <td>1</td>\n",
              "      <td>0</td>\n",
              "      <td>0</td>\n",
              "      <td>1</td>\n",
              "      <td>1.0</td>\n",
              "      <td>2</td>\n",
              "      <td>1</td>\n",
              "      <td>8.006701</td>\n",
              "      <td>4.204693</td>\n",
              "      <td>5.888878</td>\n",
              "      <td>8.006701</td>\n",
              "    </tr>\n",
              "    <tr>\n",
              "      <th>3</th>\n",
              "      <td>1</td>\n",
              "      <td>1</td>\n",
              "      <td>0</td>\n",
              "      <td>1</td>\n",
              "      <td>0</td>\n",
              "      <td>1.0</td>\n",
              "      <td>2</td>\n",
              "      <td>1</td>\n",
              "      <td>7.857094</td>\n",
              "      <td>4.795791</td>\n",
              "      <td>5.888878</td>\n",
              "      <td>8.505525</td>\n",
              "    </tr>\n",
              "    <tr>\n",
              "      <th>4</th>\n",
              "      <td>1</td>\n",
              "      <td>0</td>\n",
              "      <td>0</td>\n",
              "      <td>0</td>\n",
              "      <td>0</td>\n",
              "      <td>1.0</td>\n",
              "      <td>2</td>\n",
              "      <td>1</td>\n",
              "      <td>8.699681</td>\n",
              "      <td>4.955827</td>\n",
              "      <td>5.888878</td>\n",
              "      <td>8.699681</td>\n",
              "    </tr>\n",
              "  </tbody>\n",
              "</table>\n",
              "</div>"
            ],
            "text/plain": [
              "   Gender  Married  Dependents  Education  Self_Employed  Credit_History  \\\n",
              "0       1        0           0          0              0             1.0   \n",
              "1       1        1           1          0              0             1.0   \n",
              "2       1        1           0          0              1             1.0   \n",
              "3       1        1           0          1              0             1.0   \n",
              "4       1        0           0          0              0             1.0   \n",
              "\n",
              "   Property_Area  Loan_Status  ApplicantIncomelog  LoanAmountlog  \\\n",
              "0              2            1            8.674197       4.859812   \n",
              "1              0            0            8.430327       4.859812   \n",
              "2              2            1            8.006701       4.204693   \n",
              "3              2            1            7.857094       4.795791   \n",
              "4              2            1            8.699681       4.955827   \n",
              "\n",
              "   Loan_Amount_Term_log  Total_Income_log  \n",
              "0              5.888878          8.674197  \n",
              "1              5.888878          8.714732  \n",
              "2              5.888878          8.006701  \n",
              "3              5.888878          8.505525  \n",
              "4              5.888878          8.699681  "
            ]
          },
          "execution_count": 52,
          "metadata": {},
          "output_type": "execute_result"
        }
      ],
      "source": [
        "df.head()"
      ]
    },
    {
      "cell_type": "code",
      "execution_count": 53,
      "metadata": {
        "colab": {
          "base_uri": "https://localhost:8080/"
        },
        "id": "LGN9AaEObaMY",
        "outputId": "70730bc9-3f1c-48e0-861e-b242111b18b3"
      },
      "outputs": [
        {
          "data": {
            "text/plain": [
              "Gender                    int32\n",
              "Married                   int32\n",
              "Dependents                int32\n",
              "Education                 int32\n",
              "Self_Employed             int32\n",
              "Credit_History          float64\n",
              "Property_Area             int32\n",
              "Loan_Status               int32\n",
              "ApplicantIncomelog      float64\n",
              "LoanAmountlog           float64\n",
              "Loan_Amount_Term_log    float64\n",
              "Total_Income_log        float64\n",
              "dtype: object"
            ]
          },
          "execution_count": 53,
          "metadata": {},
          "output_type": "execute_result"
        }
      ],
      "source": [
        "df.dtypes"
      ]
    },
    {
      "cell_type": "code",
      "execution_count": 54,
      "metadata": {
        "id": "Hd9ooeiUbjI3"
      },
      "outputs": [],
      "source": [
        "## Split Independent and dependent features\n",
        "\n",
        "X = df.drop(columns = ['Loan_Status'],axis = 1)\n",
        "y = df['Loan_Status']"
      ]
    },
    {
      "cell_type": "code",
      "execution_count": 55,
      "metadata": {
        "colab": {
          "base_uri": "https://localhost:8080/",
          "height": 443
        },
        "id": "ykgko6Bfdq-U",
        "outputId": "db0d32eb-78b9-4b06-f5b2-128ee71f3243"
      },
      "outputs": [
        {
          "data": {
            "text/html": [
              "<div>\n",
              "<style scoped>\n",
              "    .dataframe tbody tr th:only-of-type {\n",
              "        vertical-align: middle;\n",
              "    }\n",
              "\n",
              "    .dataframe tbody tr th {\n",
              "        vertical-align: top;\n",
              "    }\n",
              "\n",
              "    .dataframe thead th {\n",
              "        text-align: right;\n",
              "    }\n",
              "</style>\n",
              "<table border=\"1\" class=\"dataframe\">\n",
              "  <thead>\n",
              "    <tr style=\"text-align: right;\">\n",
              "      <th></th>\n",
              "      <th>Gender</th>\n",
              "      <th>Married</th>\n",
              "      <th>Dependents</th>\n",
              "      <th>Education</th>\n",
              "      <th>Self_Employed</th>\n",
              "      <th>Credit_History</th>\n",
              "      <th>Property_Area</th>\n",
              "      <th>ApplicantIncomelog</th>\n",
              "      <th>LoanAmountlog</th>\n",
              "      <th>Loan_Amount_Term_log</th>\n",
              "      <th>Total_Income_log</th>\n",
              "    </tr>\n",
              "  </thead>\n",
              "  <tbody>\n",
              "    <tr>\n",
              "      <th>0</th>\n",
              "      <td>1</td>\n",
              "      <td>0</td>\n",
              "      <td>0</td>\n",
              "      <td>0</td>\n",
              "      <td>0</td>\n",
              "      <td>1.0</td>\n",
              "      <td>2</td>\n",
              "      <td>8.674197</td>\n",
              "      <td>4.859812</td>\n",
              "      <td>5.888878</td>\n",
              "      <td>8.674197</td>\n",
              "    </tr>\n",
              "    <tr>\n",
              "      <th>1</th>\n",
              "      <td>1</td>\n",
              "      <td>1</td>\n",
              "      <td>1</td>\n",
              "      <td>0</td>\n",
              "      <td>0</td>\n",
              "      <td>1.0</td>\n",
              "      <td>0</td>\n",
              "      <td>8.430327</td>\n",
              "      <td>4.859812</td>\n",
              "      <td>5.888878</td>\n",
              "      <td>8.714732</td>\n",
              "    </tr>\n",
              "    <tr>\n",
              "      <th>2</th>\n",
              "      <td>1</td>\n",
              "      <td>1</td>\n",
              "      <td>0</td>\n",
              "      <td>0</td>\n",
              "      <td>1</td>\n",
              "      <td>1.0</td>\n",
              "      <td>2</td>\n",
              "      <td>8.006701</td>\n",
              "      <td>4.204693</td>\n",
              "      <td>5.888878</td>\n",
              "      <td>8.006701</td>\n",
              "    </tr>\n",
              "    <tr>\n",
              "      <th>3</th>\n",
              "      <td>1</td>\n",
              "      <td>1</td>\n",
              "      <td>0</td>\n",
              "      <td>1</td>\n",
              "      <td>0</td>\n",
              "      <td>1.0</td>\n",
              "      <td>2</td>\n",
              "      <td>7.857094</td>\n",
              "      <td>4.795791</td>\n",
              "      <td>5.888878</td>\n",
              "      <td>8.505525</td>\n",
              "    </tr>\n",
              "    <tr>\n",
              "      <th>4</th>\n",
              "      <td>1</td>\n",
              "      <td>0</td>\n",
              "      <td>0</td>\n",
              "      <td>0</td>\n",
              "      <td>0</td>\n",
              "      <td>1.0</td>\n",
              "      <td>2</td>\n",
              "      <td>8.699681</td>\n",
              "      <td>4.955827</td>\n",
              "      <td>5.888878</td>\n",
              "      <td>8.699681</td>\n",
              "    </tr>\n",
              "    <tr>\n",
              "      <th>...</th>\n",
              "      <td>...</td>\n",
              "      <td>...</td>\n",
              "      <td>...</td>\n",
              "      <td>...</td>\n",
              "      <td>...</td>\n",
              "      <td>...</td>\n",
              "      <td>...</td>\n",
              "      <td>...</td>\n",
              "      <td>...</td>\n",
              "      <td>...</td>\n",
              "      <td>...</td>\n",
              "    </tr>\n",
              "    <tr>\n",
              "      <th>609</th>\n",
              "      <td>0</td>\n",
              "      <td>0</td>\n",
              "      <td>0</td>\n",
              "      <td>0</td>\n",
              "      <td>0</td>\n",
              "      <td>1.0</td>\n",
              "      <td>0</td>\n",
              "      <td>7.972811</td>\n",
              "      <td>4.276666</td>\n",
              "      <td>5.888878</td>\n",
              "      <td>7.972811</td>\n",
              "    </tr>\n",
              "    <tr>\n",
              "      <th>610</th>\n",
              "      <td>1</td>\n",
              "      <td>1</td>\n",
              "      <td>3</td>\n",
              "      <td>0</td>\n",
              "      <td>0</td>\n",
              "      <td>1.0</td>\n",
              "      <td>0</td>\n",
              "      <td>8.320448</td>\n",
              "      <td>3.713572</td>\n",
              "      <td>5.198497</td>\n",
              "      <td>8.320448</td>\n",
              "    </tr>\n",
              "    <tr>\n",
              "      <th>611</th>\n",
              "      <td>1</td>\n",
              "      <td>1</td>\n",
              "      <td>1</td>\n",
              "      <td>0</td>\n",
              "      <td>0</td>\n",
              "      <td>1.0</td>\n",
              "      <td>2</td>\n",
              "      <td>8.996280</td>\n",
              "      <td>5.537334</td>\n",
              "      <td>5.888878</td>\n",
              "      <td>9.025576</td>\n",
              "    </tr>\n",
              "    <tr>\n",
              "      <th>612</th>\n",
              "      <td>1</td>\n",
              "      <td>1</td>\n",
              "      <td>2</td>\n",
              "      <td>0</td>\n",
              "      <td>0</td>\n",
              "      <td>1.0</td>\n",
              "      <td>2</td>\n",
              "      <td>8.933796</td>\n",
              "      <td>5.236442</td>\n",
              "      <td>5.888878</td>\n",
              "      <td>8.933796</td>\n",
              "    </tr>\n",
              "    <tr>\n",
              "      <th>613</th>\n",
              "      <td>0</td>\n",
              "      <td>0</td>\n",
              "      <td>0</td>\n",
              "      <td>0</td>\n",
              "      <td>1</td>\n",
              "      <td>0.0</td>\n",
              "      <td>1</td>\n",
              "      <td>8.430327</td>\n",
              "      <td>4.897840</td>\n",
              "      <td>5.888878</td>\n",
              "      <td>8.430327</td>\n",
              "    </tr>\n",
              "  </tbody>\n",
              "</table>\n",
              "<p>614 rows × 11 columns</p>\n",
              "</div>"
            ],
            "text/plain": [
              "     Gender  Married  Dependents  Education  Self_Employed  Credit_History  \\\n",
              "0         1        0           0          0              0             1.0   \n",
              "1         1        1           1          0              0             1.0   \n",
              "2         1        1           0          0              1             1.0   \n",
              "3         1        1           0          1              0             1.0   \n",
              "4         1        0           0          0              0             1.0   \n",
              "..      ...      ...         ...        ...            ...             ...   \n",
              "609       0        0           0          0              0             1.0   \n",
              "610       1        1           3          0              0             1.0   \n",
              "611       1        1           1          0              0             1.0   \n",
              "612       1        1           2          0              0             1.0   \n",
              "613       0        0           0          0              1             0.0   \n",
              "\n",
              "     Property_Area  ApplicantIncomelog  LoanAmountlog  Loan_Amount_Term_log  \\\n",
              "0                2            8.674197       4.859812              5.888878   \n",
              "1                0            8.430327       4.859812              5.888878   \n",
              "2                2            8.006701       4.204693              5.888878   \n",
              "3                2            7.857094       4.795791              5.888878   \n",
              "4                2            8.699681       4.955827              5.888878   \n",
              "..             ...                 ...            ...                   ...   \n",
              "609              0            7.972811       4.276666              5.888878   \n",
              "610              0            8.320448       3.713572              5.198497   \n",
              "611              2            8.996280       5.537334              5.888878   \n",
              "612              2            8.933796       5.236442              5.888878   \n",
              "613              1            8.430327       4.897840              5.888878   \n",
              "\n",
              "     Total_Income_log  \n",
              "0            8.674197  \n",
              "1            8.714732  \n",
              "2            8.006701  \n",
              "3            8.505525  \n",
              "4            8.699681  \n",
              "..                ...  \n",
              "609          7.972811  \n",
              "610          8.320448  \n",
              "611          9.025576  \n",
              "612          8.933796  \n",
              "613          8.430327  \n",
              "\n",
              "[614 rows x 11 columns]"
            ]
          },
          "execution_count": 55,
          "metadata": {},
          "output_type": "execute_result"
        }
      ],
      "source": [
        "X"
      ]
    },
    {
      "cell_type": "code",
      "execution_count": 56,
      "metadata": {
        "colab": {
          "base_uri": "https://localhost:8080/"
        },
        "id": "1IFpYluVdr5y",
        "outputId": "f72614df-5064-4cb2-b7d5-d5ad275248fa"
      },
      "outputs": [
        {
          "data": {
            "text/plain": [
              "0      1\n",
              "1      0\n",
              "2      1\n",
              "3      1\n",
              "4      1\n",
              "      ..\n",
              "609    1\n",
              "610    1\n",
              "611    1\n",
              "612    1\n",
              "613    0\n",
              "Name: Loan_Status, Length: 614, dtype: int32"
            ]
          },
          "execution_count": 56,
          "metadata": {},
          "output_type": "execute_result"
        }
      ],
      "source": [
        "y"
      ]
    },
    {
      "cell_type": "code",
      "execution_count": 57,
      "metadata": {
        "id": "bL7Z0P7NdupB"
      },
      "outputs": [],
      "source": [
        "from sklearn.model_selection import train_test_split, cross_val_score\n",
        "from sklearn.metrics import accuracy_score, confusion_matrix\n",
        "from sklearn.linear_model import LogisticRegression\n",
        "from sklearn.tree import DecisionTreeClassifier\n",
        "from sklearn.ensemble import RandomForestClassifier\n",
        "from sklearn.neighbors import KNeighborsClassifier"
      ]
    },
    {
      "cell_type": "code",
      "execution_count": 58,
      "metadata": {
        "id": "GvbGYn7Oe5Si"
      },
      "outputs": [],
      "source": [
        "X_train, X_test, y_train, y_test = train_test_split(X,y,test_size = 0.25,random_state = 42)\n"
      ]
    },
    {
      "cell_type": "markdown",
      "metadata": {},
      "source": [
        "### Logistic Regression model"
      ]
    },
    {
      "cell_type": "code",
      "execution_count": 59,
      "metadata": {
        "id": "DCeZE7Rs-Xx9"
      },
      "outputs": [],
      "source": [
        "## Logistic Regression\n",
        "model1 = LogisticRegression()\n",
        "model1.fit(X_train,y_train)\n",
        "y_pred_model1 = model1.predict(X_test)\n",
        "accuracy = accuracy_score(y_test,y_pred_model1)"
      ]
    },
    {
      "cell_type": "code",
      "execution_count": 60,
      "metadata": {
        "colab": {
          "base_uri": "https://localhost:8080/"
        },
        "id": "DdXIAD4V-5pM",
        "outputId": "045d7b20-e04b-4377-ce4c-b81dc3308680"
      },
      "outputs": [
        {
          "data": {
            "text/plain": [
              "77.27272727272727"
            ]
          },
          "execution_count": 60,
          "metadata": {},
          "output_type": "execute_result"
        }
      ],
      "source": [
        "accuracy*100"
      ]
    },
    {
      "cell_type": "code",
      "execution_count": 61,
      "metadata": {
        "id": "cyWwbKO1-7_J"
      },
      "outputs": [],
      "source": [
        "## Accuracy : the ratio of the correctly predicted values to total values"
      ]
    },
    {
      "cell_type": "code",
      "execution_count": 62,
      "metadata": {
        "colab": {
          "base_uri": "https://localhost:8080/"
        },
        "id": "LWh58Zfs_JuX",
        "outputId": "a4c7f786-5cc1-4c3d-c6b0-681a95d8861b"
      },
      "outputs": [
        {
          "data": {
            "text/plain": [
              "array([0.81300813, 0.7804878 , 0.7804878 , 0.85365854, 0.81967213])"
            ]
          },
          "execution_count": 62,
          "metadata": {},
          "output_type": "execute_result"
        }
      ],
      "source": [
        "score = cross_val_score(model1,X,y,cv=5)\n",
        "score"
      ]
    },
    {
      "cell_type": "code",
      "execution_count": 63,
      "metadata": {
        "colab": {
          "base_uri": "https://localhost:8080/"
        },
        "id": "jCXoRAI6_bH5",
        "outputId": "28b55fa1-e8c0-46d5-a886-186f68bc0eb1"
      },
      "outputs": [
        {
          "data": {
            "text/plain": [
              "80.9462881514061"
            ]
          },
          "execution_count": 63,
          "metadata": {},
          "output_type": "execute_result"
        }
      ],
      "source": [
        "np.mean(score)*100"
      ]
    },
    {
      "cell_type": "markdown",
      "metadata": {},
      "source": [
        "### Decision Tree Classifier"
      ]
    },
    {
      "cell_type": "code",
      "execution_count": 64,
      "metadata": {
        "colab": {
          "base_uri": "https://localhost:8080/"
        },
        "id": "ifQIY0_f_hCy",
        "outputId": "1b9c626b-9644-4784-e9bf-8cc3d6368b75"
      },
      "outputs": [
        {
          "name": "stdout",
          "output_type": "stream",
          "text": [
            "Accuracy score of Decision Tree:  72.72727272727273\n"
          ]
        }
      ],
      "source": [
        "## Decision Tree Classifier\n",
        "\n",
        "model2 = DecisionTreeClassifier()\n",
        "model2.fit(X_train,y_train)\n",
        "y_pred_model2 = model2.predict(X_test)\n",
        "accuracy = accuracy_score(y_test,y_pred_model2)\n",
        "print(\"Accuracy score of Decision Tree: \", accuracy*100)"
      ]
    },
    {
      "cell_type": "code",
      "execution_count": 65,
      "metadata": {
        "colab": {
          "base_uri": "https://localhost:8080/"
        },
        "id": "9vYDKMM5AJpC",
        "outputId": "b210d393-93bd-4ab5-c020-e38d0a943187"
      },
      "outputs": [
        {
          "name": "stdout",
          "output_type": "stream",
          "text": [
            "Cross Validation score of Decision Tree:  69.54418232706917\n"
          ]
        }
      ],
      "source": [
        "score = cross_val_score(model2,X,y,cv=5)\n",
        "print(\"Cross Validation score of Decision Tree: \",np.mean(score)*100)"
      ]
    },
    {
      "cell_type": "markdown",
      "metadata": {},
      "source": [
        "### Random Forest Classifier"
      ]
    },
    {
      "cell_type": "code",
      "execution_count": 66,
      "metadata": {
        "colab": {
          "base_uri": "https://localhost:8080/"
        },
        "id": "0c5RMReLAbDz",
        "outputId": "48455045-b655-43c7-972e-5e7e1782824d"
      },
      "outputs": [
        {
          "name": "stdout",
          "output_type": "stream",
          "text": [
            "Accuracy score of Random Forest:  78.57142857142857\n"
          ]
        }
      ],
      "source": [
        "## Random Forest Classifier\n",
        "model3 = RandomForestClassifier()\n",
        "model3.fit(X_train,y_train)\n",
        "y_pred_model3 = model3.predict(X_test)\n",
        "accuracy = accuracy_score(y_test,y_pred_model3)\n",
        "print(\"Accuracy score of Random Forest: \", accuracy*100)"
      ]
    },
    {
      "cell_type": "markdown",
      "metadata": {},
      "source": [
        "### KNearestNeighbors Classifier Model"
      ]
    },
    {
      "cell_type": "code",
      "execution_count": 67,
      "metadata": {
        "colab": {
          "base_uri": "https://localhost:8080/"
        },
        "id": "CyHFsMrDA0eL",
        "outputId": "e505fa88-ad1a-4b46-c05d-39655b277bcd"
      },
      "outputs": [
        {
          "name": "stdout",
          "output_type": "stream",
          "text": [
            "Accuracy score of KNeighbors:  71.42857142857143\n"
          ]
        }
      ],
      "source": [
        "#KNearestNeighbors model\n",
        "model4 = KNeighborsClassifier(n_neighbors=3)\n",
        "model4.fit(X_train,y_train)\n",
        "y_pred_model4 = model4.predict(X_test)\n",
        "accuracy = accuracy_score(y_test,y_pred_model4)\n",
        "print(\"Accuracy score of KNeighbors: \", accuracy*100)"
      ]
    },
    {
      "cell_type": "markdown",
      "metadata": {},
      "source": [
        "### Report"
      ]
    },
    {
      "cell_type": "code",
      "execution_count": 68,
      "metadata": {
        "colab": {
          "base_uri": "https://localhost:8080/"
        },
        "id": "fEqMHJDWjbIw",
        "outputId": "db7c6085-0d33-497b-a4d5-81ea432d79b9"
      },
      "outputs": [
        {
          "name": "stdout",
          "output_type": "stream",
          "text": [
            "Classification Report For LogisticRegression():\n",
            "              precision    recall  f1-score   support\n",
            "\n",
            "           0       0.91      0.39      0.55        54\n",
            "           1       0.75      0.98      0.85       100\n",
            "\n",
            "    accuracy                           0.77       154\n",
            "   macro avg       0.83      0.68      0.70       154\n",
            "weighted avg       0.81      0.77      0.74       154\n",
            "\n",
            "\n",
            "Classification Report For DecisionTreeClassifier():\n",
            "              precision    recall  f1-score   support\n",
            "\n",
            "           0       0.63      0.54      0.58        54\n",
            "           1       0.77      0.83      0.80       100\n",
            "\n",
            "    accuracy                           0.73       154\n",
            "   macro avg       0.70      0.68      0.69       154\n",
            "weighted avg       0.72      0.73      0.72       154\n",
            "\n",
            "\n",
            "Classification Report For RandomForestClassifier():\n",
            "              precision    recall  f1-score   support\n",
            "\n",
            "           0       0.86      0.46      0.60        54\n",
            "           1       0.77      0.96      0.85       100\n",
            "\n",
            "    accuracy                           0.79       154\n",
            "   macro avg       0.82      0.71      0.73       154\n",
            "weighted avg       0.80      0.79      0.77       154\n",
            "\n",
            "\n",
            "Classification Report For KNeighborsClassifier(n_neighbors=3):\n",
            "              precision    recall  f1-score   support\n",
            "\n",
            "           0       0.63      0.44      0.52        54\n",
            "           1       0.74      0.86      0.80       100\n",
            "\n",
            "    accuracy                           0.71       154\n",
            "   macro avg       0.69      0.65      0.66       154\n",
            "weighted avg       0.70      0.71      0.70       154\n",
            "\n",
            "\n"
          ]
        }
      ],
      "source": [
        "from sklearn.metrics import classification_report\n",
        "\n",
        "def generate_classification_report(model_name,y_test,y_pred):\n",
        "  report = classification_report(y_test,y_pred)\n",
        "  print(f\"Classification Report For {model_name}:\\n{report}\\n\")\n",
        "\n",
        "generate_classification_report(model1,y_test,y_pred_model1)\n",
        "generate_classification_report(model2,y_test,y_pred_model2)\n",
        "generate_classification_report(model3,y_test,y_pred_model3)\n",
        "generate_classification_report(model4,y_test,y_pred_model4)"
      ]
    },
    {
      "cell_type": "markdown",
      "metadata": {},
      "source": [
        "### Handling imbalanced dataset"
      ]
    },
    {
      "cell_type": "code",
      "execution_count": 69,
      "metadata": {
        "colab": {
          "base_uri": "https://localhost:8080/"
        },
        "id": "fafQzNgQlcn-",
        "outputId": "c25dd49d-b8ab-44bf-fdb6-6bd3467870ef"
      },
      "outputs": [
        {
          "data": {
            "text/plain": [
              "Loan_Status\n",
              "1    422\n",
              "0    192\n",
              "Name: count, dtype: int64"
            ]
          },
          "execution_count": 69,
          "metadata": {},
          "output_type": "execute_result"
        }
      ],
      "source": [
        "# Checking if data is balanced or imbalanced\n",
        "df['Loan_Status'].value_counts()"
      ]
    },
    {
      "cell_type": "code",
      "execution_count": 70,
      "metadata": {
        "colab": {
          "base_uri": "https://localhost:8080/"
        },
        "id": "LqF1wdPtlgHy",
        "outputId": "df33f130-dfd2-437c-95a8-24de6bcda038"
      },
      "outputs": [
        {
          "name": "stdout",
          "output_type": "stream",
          "text": [
            "Requirement already satisfied: imbalanced-learn in c:\\users\\acer\\anaconda3\\lib\\site-packages (0.12.3)\n",
            "Requirement already satisfied: numpy>=1.17.3 in c:\\users\\acer\\anaconda3\\lib\\site-packages (from imbalanced-learn) (1.24.3)\n",
            "Requirement already satisfied: scipy>=1.5.0 in c:\\users\\acer\\anaconda3\\lib\\site-packages (from imbalanced-learn) (1.11.1)\n",
            "Requirement already satisfied: scikit-learn>=1.0.2 in c:\\users\\acer\\anaconda3\\lib\\site-packages (from imbalanced-learn) (1.3.2)\n",
            "Requirement already satisfied: joblib>=1.1.1 in c:\\users\\acer\\anaconda3\\lib\\site-packages (from imbalanced-learn) (1.1.1)\n",
            "Requirement already satisfied: threadpoolctl>=2.0.0 in c:\\users\\acer\\anaconda3\\lib\\site-packages (from imbalanced-learn) (2.2.0)\n",
            "Note: you may need to restart the kernel to use updated packages.\n"
          ]
        }
      ],
      "source": [
        "pip install -U imbalanced-learn"
      ]
    },
    {
      "cell_type": "code",
      "execution_count": 71,
      "metadata": {
        "id": "V3RF1J_Xl8nT"
      },
      "outputs": [],
      "source": [
        "from imblearn.over_sampling import RandomOverSampler"
      ]
    },
    {
      "cell_type": "code",
      "execution_count": 72,
      "metadata": {
        "id": "rua7tto_mILL"
      },
      "outputs": [],
      "source": [
        "oversample = RandomOverSampler(random_state=42)\n",
        "X_resampled, y_resampled = oversample.fit_resample(X,y)\n",
        "\n",
        "df_resampled = pd.concat([pd.DataFrame(X_resampled,columns=X.columns),pd.Series(y_resampled,name=\"Loan_status\")],axis=1)"
      ]
    },
    {
      "cell_type": "code",
      "execution_count": 73,
      "metadata": {
        "colab": {
          "base_uri": "https://localhost:8080/",
          "height": 443
        },
        "id": "JwhPl0d1m6b5",
        "outputId": "413a1aa6-3e0f-4eae-d3e1-9badf91e9168"
      },
      "outputs": [
        {
          "data": {
            "text/html": [
              "<div>\n",
              "<style scoped>\n",
              "    .dataframe tbody tr th:only-of-type {\n",
              "        vertical-align: middle;\n",
              "    }\n",
              "\n",
              "    .dataframe tbody tr th {\n",
              "        vertical-align: top;\n",
              "    }\n",
              "\n",
              "    .dataframe thead th {\n",
              "        text-align: right;\n",
              "    }\n",
              "</style>\n",
              "<table border=\"1\" class=\"dataframe\">\n",
              "  <thead>\n",
              "    <tr style=\"text-align: right;\">\n",
              "      <th></th>\n",
              "      <th>Gender</th>\n",
              "      <th>Married</th>\n",
              "      <th>Dependents</th>\n",
              "      <th>Education</th>\n",
              "      <th>Self_Employed</th>\n",
              "      <th>Credit_History</th>\n",
              "      <th>Property_Area</th>\n",
              "      <th>ApplicantIncomelog</th>\n",
              "      <th>LoanAmountlog</th>\n",
              "      <th>Loan_Amount_Term_log</th>\n",
              "      <th>Total_Income_log</th>\n",
              "    </tr>\n",
              "  </thead>\n",
              "  <tbody>\n",
              "    <tr>\n",
              "      <th>0</th>\n",
              "      <td>1</td>\n",
              "      <td>0</td>\n",
              "      <td>0</td>\n",
              "      <td>0</td>\n",
              "      <td>0</td>\n",
              "      <td>1.000000</td>\n",
              "      <td>2</td>\n",
              "      <td>8.674197</td>\n",
              "      <td>4.859812</td>\n",
              "      <td>5.888878</td>\n",
              "      <td>8.674197</td>\n",
              "    </tr>\n",
              "    <tr>\n",
              "      <th>1</th>\n",
              "      <td>1</td>\n",
              "      <td>1</td>\n",
              "      <td>1</td>\n",
              "      <td>0</td>\n",
              "      <td>0</td>\n",
              "      <td>1.000000</td>\n",
              "      <td>0</td>\n",
              "      <td>8.430327</td>\n",
              "      <td>4.859812</td>\n",
              "      <td>5.888878</td>\n",
              "      <td>8.714732</td>\n",
              "    </tr>\n",
              "    <tr>\n",
              "      <th>2</th>\n",
              "      <td>1</td>\n",
              "      <td>1</td>\n",
              "      <td>0</td>\n",
              "      <td>0</td>\n",
              "      <td>1</td>\n",
              "      <td>1.000000</td>\n",
              "      <td>2</td>\n",
              "      <td>8.006701</td>\n",
              "      <td>4.204693</td>\n",
              "      <td>5.888878</td>\n",
              "      <td>8.006701</td>\n",
              "    </tr>\n",
              "    <tr>\n",
              "      <th>3</th>\n",
              "      <td>1</td>\n",
              "      <td>1</td>\n",
              "      <td>0</td>\n",
              "      <td>1</td>\n",
              "      <td>0</td>\n",
              "      <td>1.000000</td>\n",
              "      <td>2</td>\n",
              "      <td>7.857094</td>\n",
              "      <td>4.795791</td>\n",
              "      <td>5.888878</td>\n",
              "      <td>8.505525</td>\n",
              "    </tr>\n",
              "    <tr>\n",
              "      <th>4</th>\n",
              "      <td>1</td>\n",
              "      <td>0</td>\n",
              "      <td>0</td>\n",
              "      <td>0</td>\n",
              "      <td>0</td>\n",
              "      <td>1.000000</td>\n",
              "      <td>2</td>\n",
              "      <td>8.699681</td>\n",
              "      <td>4.955827</td>\n",
              "      <td>5.888878</td>\n",
              "      <td>8.699681</td>\n",
              "    </tr>\n",
              "    <tr>\n",
              "      <th>...</th>\n",
              "      <td>...</td>\n",
              "      <td>...</td>\n",
              "      <td>...</td>\n",
              "      <td>...</td>\n",
              "      <td>...</td>\n",
              "      <td>...</td>\n",
              "      <td>...</td>\n",
              "      <td>...</td>\n",
              "      <td>...</td>\n",
              "      <td>...</td>\n",
              "      <td>...</td>\n",
              "    </tr>\n",
              "    <tr>\n",
              "      <th>839</th>\n",
              "      <td>1</td>\n",
              "      <td>1</td>\n",
              "      <td>3</td>\n",
              "      <td>1</td>\n",
              "      <td>0</td>\n",
              "      <td>1.000000</td>\n",
              "      <td>2</td>\n",
              "      <td>8.292298</td>\n",
              "      <td>4.859812</td>\n",
              "      <td>5.198497</td>\n",
              "      <td>8.292298</td>\n",
              "    </tr>\n",
              "    <tr>\n",
              "      <th>840</th>\n",
              "      <td>1</td>\n",
              "      <td>1</td>\n",
              "      <td>1</td>\n",
              "      <td>0</td>\n",
              "      <td>0</td>\n",
              "      <td>0.842199</td>\n",
              "      <td>0</td>\n",
              "      <td>7.539559</td>\n",
              "      <td>4.127134</td>\n",
              "      <td>5.888878</td>\n",
              "      <td>7.539559</td>\n",
              "    </tr>\n",
              "    <tr>\n",
              "      <th>841</th>\n",
              "      <td>1</td>\n",
              "      <td>1</td>\n",
              "      <td>1</td>\n",
              "      <td>0</td>\n",
              "      <td>0</td>\n",
              "      <td>0.000000</td>\n",
              "      <td>0</td>\n",
              "      <td>7.933080</td>\n",
              "      <td>4.990433</td>\n",
              "      <td>5.888878</td>\n",
              "      <td>8.456381</td>\n",
              "    </tr>\n",
              "    <tr>\n",
              "      <th>842</th>\n",
              "      <td>1</td>\n",
              "      <td>1</td>\n",
              "      <td>2</td>\n",
              "      <td>1</td>\n",
              "      <td>0</td>\n",
              "      <td>0.000000</td>\n",
              "      <td>2</td>\n",
              "      <td>7.969012</td>\n",
              "      <td>3.828641</td>\n",
              "      <td>5.198497</td>\n",
              "      <td>7.969012</td>\n",
              "    </tr>\n",
              "    <tr>\n",
              "      <th>843</th>\n",
              "      <td>1</td>\n",
              "      <td>0</td>\n",
              "      <td>0</td>\n",
              "      <td>0</td>\n",
              "      <td>0</td>\n",
              "      <td>0.000000</td>\n",
              "      <td>1</td>\n",
              "      <td>8.334952</td>\n",
              "      <td>4.595120</td>\n",
              "      <td>5.888878</td>\n",
              "      <td>8.334952</td>\n",
              "    </tr>\n",
              "  </tbody>\n",
              "</table>\n",
              "<p>844 rows × 11 columns</p>\n",
              "</div>"
            ],
            "text/plain": [
              "     Gender  Married  Dependents  Education  Self_Employed  Credit_History  \\\n",
              "0         1        0           0          0              0        1.000000   \n",
              "1         1        1           1          0              0        1.000000   \n",
              "2         1        1           0          0              1        1.000000   \n",
              "3         1        1           0          1              0        1.000000   \n",
              "4         1        0           0          0              0        1.000000   \n",
              "..      ...      ...         ...        ...            ...             ...   \n",
              "839       1        1           3          1              0        1.000000   \n",
              "840       1        1           1          0              0        0.842199   \n",
              "841       1        1           1          0              0        0.000000   \n",
              "842       1        1           2          1              0        0.000000   \n",
              "843       1        0           0          0              0        0.000000   \n",
              "\n",
              "     Property_Area  ApplicantIncomelog  LoanAmountlog  Loan_Amount_Term_log  \\\n",
              "0                2            8.674197       4.859812              5.888878   \n",
              "1                0            8.430327       4.859812              5.888878   \n",
              "2                2            8.006701       4.204693              5.888878   \n",
              "3                2            7.857094       4.795791              5.888878   \n",
              "4                2            8.699681       4.955827              5.888878   \n",
              "..             ...                 ...            ...                   ...   \n",
              "839              2            8.292298       4.859812              5.198497   \n",
              "840              0            7.539559       4.127134              5.888878   \n",
              "841              0            7.933080       4.990433              5.888878   \n",
              "842              2            7.969012       3.828641              5.198497   \n",
              "843              1            8.334952       4.595120              5.888878   \n",
              "\n",
              "     Total_Income_log  \n",
              "0            8.674197  \n",
              "1            8.714732  \n",
              "2            8.006701  \n",
              "3            8.505525  \n",
              "4            8.699681  \n",
              "..                ...  \n",
              "839          8.292298  \n",
              "840          7.539559  \n",
              "841          8.456381  \n",
              "842          7.969012  \n",
              "843          8.334952  \n",
              "\n",
              "[844 rows x 11 columns]"
            ]
          },
          "execution_count": 73,
          "metadata": {},
          "output_type": "execute_result"
        }
      ],
      "source": [
        "X_resampled"
      ]
    },
    {
      "cell_type": "code",
      "execution_count": 74,
      "metadata": {
        "colab": {
          "base_uri": "https://localhost:8080/"
        },
        "id": "FhjzTuQwm_VU",
        "outputId": "d4e9bddc-b88f-45b9-d190-2299cf4bc0c7"
      },
      "outputs": [
        {
          "data": {
            "text/plain": [
              "0      1\n",
              "1      0\n",
              "2      1\n",
              "3      1\n",
              "4      1\n",
              "      ..\n",
              "839    0\n",
              "840    0\n",
              "841    0\n",
              "842    0\n",
              "843    0\n",
              "Name: Loan_Status, Length: 844, dtype: int32"
            ]
          },
          "execution_count": 74,
          "metadata": {},
          "output_type": "execute_result"
        }
      ],
      "source": [
        "y_resampled"
      ]
    },
    {
      "cell_type": "code",
      "execution_count": 75,
      "metadata": {
        "colab": {
          "base_uri": "https://localhost:8080/"
        },
        "id": "RCpeFZc3nAYP",
        "outputId": "04e2ed84-88d7-492c-ad7e-9e3b562dcb87"
      },
      "outputs": [
        {
          "data": {
            "text/plain": [
              "Loan_Status\n",
              "1    422\n",
              "0    422\n",
              "Name: count, dtype: int64"
            ]
          },
          "execution_count": 75,
          "metadata": {},
          "output_type": "execute_result"
        }
      ],
      "source": [
        "y_resampled.value_counts()"
      ]
    },
    {
      "cell_type": "code",
      "execution_count": 76,
      "metadata": {
        "id": "BnvDUeOLnTel"
      },
      "outputs": [],
      "source": [
        "X_resampled_train, X_resampled_test, y_resampled_train, y_resampled_test = train_test_split(X_resampled,y_resampled,test_size = 0.25,random_state=42)"
      ]
    },
    {
      "cell_type": "code",
      "execution_count": 77,
      "metadata": {
        "colab": {
          "base_uri": "https://localhost:8080/"
        },
        "id": "VNvbDngQnIBD",
        "outputId": "9ea333fb-713b-468a-f4ff-d57dc854365a"
      },
      "outputs": [
        {
          "data": {
            "text/plain": [
              "69.66824644549763"
            ]
          },
          "execution_count": 77,
          "metadata": {},
          "output_type": "execute_result"
        }
      ],
      "source": [
        "## Logistic Regression\n",
        "model1 = LogisticRegression()\n",
        "model1.fit(X_resampled_train,y_resampled_train)\n",
        "y_pred_model1 = model1.predict(X_resampled_test)\n",
        "accuracy = accuracy_score(y_resampled_test,y_pred_model1)\n",
        "accuracy*100"
      ]
    },
    {
      "cell_type": "code",
      "execution_count": 78,
      "metadata": {
        "colab": {
          "base_uri": "https://localhost:8080/"
        },
        "id": "DiRj0LfVo5Fz",
        "outputId": "e30a52de-4b51-4592-dc0e-a8d78e36758e"
      },
      "outputs": [
        {
          "name": "stdout",
          "output_type": "stream",
          "text": [
            "Accuracy score of Decision Tree:  80.09478672985783\n"
          ]
        }
      ],
      "source": [
        "## Decision Tree Classifier\n",
        "\n",
        "model2 = DecisionTreeClassifier()\n",
        "model2.fit(X_resampled_train,y_resampled_train)\n",
        "y_pred_model2 = model2.predict(X_resampled_test)\n",
        "accuracy = accuracy_score(y_resampled_test,y_pred_model2)\n",
        "print(\"Accuracy score of Decision Tree: \", accuracy*100)"
      ]
    },
    {
      "cell_type": "code",
      "execution_count": 79,
      "metadata": {
        "colab": {
          "base_uri": "https://localhost:8080/"
        },
        "id": "68CE_BK8pTa-",
        "outputId": "f6b945a2-cccc-419f-da1f-1e3ca268c281"
      },
      "outputs": [
        {
          "name": "stdout",
          "output_type": "stream",
          "text": [
            "Accuracy score of Random Forest:  88.15165876777252\n"
          ]
        }
      ],
      "source": [
        "## Random Forest Classifier\n",
        "model3 = RandomForestClassifier()\n",
        "model3.fit(X_resampled_train,y_resampled_train)\n",
        "y_pred_model3 = model3.predict(X_resampled_test)\n",
        "accuracy = accuracy_score(y_resampled_test,y_pred_model3)\n",
        "print(\"Accuracy score of Random Forest: \", accuracy*100)"
      ]
    },
    {
      "cell_type": "code",
      "execution_count": 80,
      "metadata": {
        "colab": {
          "base_uri": "https://localhost:8080/"
        },
        "id": "maljZrI3pfVQ",
        "outputId": "4e37a6f8-d9a0-45e4-f8c9-b1252ff71972"
      },
      "outputs": [
        {
          "name": "stdout",
          "output_type": "stream",
          "text": [
            "Accuracy score of KNeighbors:  72.51184834123224\n"
          ]
        }
      ],
      "source": [
        "#KNearestNeighbors model\n",
        "model4 = KNeighborsClassifier(n_neighbors=3)\n",
        "model4.fit(X_resampled_train,y_resampled_train)\n",
        "y_pred_model4 = model4.predict(X_resampled_test)\n",
        "accuracy = accuracy_score(y_resampled_test,y_pred_model4)\n",
        "print(\"Accuracy score of KNeighbors: \", accuracy*100)"
      ]
    },
    {
      "cell_type": "markdown",
      "metadata": {},
      "source": [
        "### Final Report"
      ]
    },
    {
      "cell_type": "code",
      "execution_count": 81,
      "metadata": {
        "colab": {
          "base_uri": "https://localhost:8080/"
        },
        "id": "bpfjtjABps9-",
        "outputId": "5a8584c2-e5b1-4f91-d102-c94764f83591"
      },
      "outputs": [
        {
          "name": "stdout",
          "output_type": "stream",
          "text": [
            "Classification Report For LogisticRegression():\n",
            "              precision    recall  f1-score   support\n",
            "\n",
            "           0       0.85      0.54      0.66       114\n",
            "           1       0.62      0.89      0.73        97\n",
            "\n",
            "    accuracy                           0.70       211\n",
            "   macro avg       0.73      0.71      0.69       211\n",
            "weighted avg       0.74      0.70      0.69       211\n",
            "\n",
            "\n",
            "Classification Report For DecisionTreeClassifier():\n",
            "              precision    recall  f1-score   support\n",
            "\n",
            "           0       0.79      0.86      0.82       114\n",
            "           1       0.82      0.73      0.77        97\n",
            "\n",
            "    accuracy                           0.80       211\n",
            "   macro avg       0.80      0.80      0.80       211\n",
            "weighted avg       0.80      0.80      0.80       211\n",
            "\n",
            "\n",
            "Classification Report For RandomForestClassifier():\n",
            "              precision    recall  f1-score   support\n",
            "\n",
            "           0       0.92      0.86      0.89       114\n",
            "           1       0.85      0.91      0.88        97\n",
            "\n",
            "    accuracy                           0.88       211\n",
            "   macro avg       0.88      0.88      0.88       211\n",
            "weighted avg       0.88      0.88      0.88       211\n",
            "\n",
            "\n",
            "Classification Report For KNeighborsClassifier(n_neighbors=3):\n",
            "              precision    recall  f1-score   support\n",
            "\n",
            "           0       0.73      0.77      0.75       114\n",
            "           1       0.71      0.67      0.69        97\n",
            "\n",
            "    accuracy                           0.73       211\n",
            "   macro avg       0.72      0.72      0.72       211\n",
            "weighted avg       0.72      0.73      0.72       211\n",
            "\n",
            "\n"
          ]
        }
      ],
      "source": [
        "from sklearn.metrics import classification_report\n",
        "\n",
        "def generate_classification_report(model_name,y_test,y_pred):\n",
        "  report = classification_report(y_test,y_pred)\n",
        "  print(f\"Classification Report For {model_name}:\\n{report}\\n\")\n",
        "\n",
        "generate_classification_report(model1,y_resampled_test,y_pred_model1)\n",
        "generate_classification_report(model2,y_resampled_test,y_pred_model2)\n",
        "generate_classification_report(model3,y_resampled_test,y_pred_model3)\n",
        "generate_classification_report(model4,y_resampled_test,y_pred_model4)"
      ]
    }
  ],
  "metadata": {
    "colab": {
      "provenance": []
    },
    "kernelspec": {
      "display_name": "Python 3",
      "name": "python3"
    },
    "language_info": {
      "codemirror_mode": {
        "name": "ipython",
        "version": 3
      },
      "file_extension": ".py",
      "mimetype": "text/x-python",
      "name": "python",
      "nbconvert_exporter": "python",
      "pygments_lexer": "ipython3",
      "version": "3.11.5"
    }
  },
  "nbformat": 4,
  "nbformat_minor": 0
}
